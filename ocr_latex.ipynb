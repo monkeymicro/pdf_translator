{
 "cells": [
  {
   "cell_type": "code",
   "execution_count": null,
   "metadata": {},
   "outputs": [],
   "source": [
    "# 公式图片转latex code\n",
    "from PIL import Image\n",
    "try:\n",
    "    from pix2tex.cli import LatexOCR\n",
    "except:\n",
    "    !pip install pix2tex.cli\n",
    "\n",
    "img = Image.open('path/to/image.png')\n",
    "model = LatexOCR()\n",
    "print(model(img))"
   ]
  }
 ],
 "metadata": {
  "language_info": {
   "name": "python"
  }
 },
 "nbformat": 4,
 "nbformat_minor": 2
}
